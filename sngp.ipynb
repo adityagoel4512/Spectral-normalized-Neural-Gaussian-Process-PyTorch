{
 "cells": [
  {
   "cell_type": "markdown",
   "source": [
    "# PyTorch Implementation of SNGP\n",
    "\n",
    "The core concepts of **Spectral-normalised Neural Gaussian Process** (SNGP) can be found in the original paper https://arxiv.org/abs/2006.10108. SNGP's main idea is to improve the ability of deep neural networks to retain distance information and to leverage this to determine the distance between test examples and the training data to improve predictive uncertainty estimates. \n",
    "\n",
    "This notebook roughly follows the outline of https://colab.research.google.com/github/tensorflow/docs/blob/master/site/en/tutorials/understanding/sngp.ipynb but aims to implement all functionality shown here in PyTorch. https://github.com/alartum/sngp-pytorch is also an excellent implementation to consider and was read in determining how to organise my implementation."
   ],
   "metadata": {
    "gradient": {
     "editing": false,
     "id": "acad144c",
     "kernelId": ""
    },
    "id": "acad144c"
   }
  },
  {
   "cell_type": "code",
   "execution_count": 3,
   "source": [
    "import matplotlib.pyplot as plt\n",
    "import matplotlib.colors as colors\n",
    "\n",
    "import sklearn.datasets\n",
    "\n",
    "import numpy as np\n",
    "\n",
    "import torch"
   ],
   "outputs": [],
   "metadata": {
    "gradient": {
     "editing": false,
     "execution_count": 1,
     "id": "522d5890",
     "kernelId": ""
    },
    "id": "522d5890"
   }
  },
  {
   "cell_type": "markdown",
   "source": [
    "Define visualization macros"
   ],
   "metadata": {
    "gradient": {
     "editing": false,
     "id": "e4ce690a",
     "kernelId": ""
    },
    "id": "e4ce690a"
   }
  },
  {
   "cell_type": "code",
   "execution_count": 4,
   "source": [
    "plt.rcParams['figure.dpi'] = 140\n",
    "\n",
    "DEFAULT_X_RANGE = (-3.5, 3.5)\n",
    "DEFAULT_Y_RANGE = (-2.5, 2.5)\n",
    "DEFAULT_CMAP = colors.ListedColormap([\"#377eb8\", \"#ff7f00\"])\n",
    "DEFAULT_NORM = colors.Normalize(vmin=0, vmax=1,)\n",
    "DEFAULT_N_GRID = 100"
   ],
   "outputs": [],
   "metadata": {
    "gradient": {
     "editing": false,
     "execution_count": 3,
     "id": "a4c21612",
     "kernelId": ""
    },
    "id": "a4c21612"
   }
  },
  {
   "cell_type": "markdown",
   "source": [
    "## The two moon dataset"
   ],
   "metadata": {
    "gradient": {
     "editing": false,
     "id": "7ca454b4",
     "kernelId": ""
    },
    "id": "7ca454b4"
   }
  },
  {
   "cell_type": "markdown",
   "source": [
    "Create the trainining and evaluation datasets from the [two moon dataset](https://scikit-learn.org/stable/modules/generated/sklearn.datasets.make_moons.html)."
   ],
   "metadata": {
    "gradient": {
     "editing": false,
     "id": "3028c3cd",
     "kernelId": ""
    },
    "id": "3028c3cd"
   }
  },
  {
   "cell_type": "code",
   "execution_count": 5,
   "source": [
    "def make_training_data(sample_size=500):\n",
    "  \"\"\"Create two moon training dataset.\"\"\"\n",
    "  train_examples, train_labels = sklearn.datasets.make_moons(\n",
    "      n_samples=2 * sample_size, noise=0.1)\n",
    "\n",
    "  # Adjust data position slightly.\n",
    "  train_examples[train_labels == 0] += [-0.1, 0.2]\n",
    "  train_examples[train_labels == 1] += [0.1, -0.2]\n",
    "\n",
    "  return train_examples, train_labels"
   ],
   "outputs": [],
   "metadata": {
    "gradient": {
     "editing": false,
     "execution_count": 4,
     "id": "a067b51e",
     "kernelId": ""
    },
    "id": "a067b51e"
   }
  },
  {
   "cell_type": "markdown",
   "source": [
    "Evaluate the model's predictive behavior over the entire 2D input space."
   ],
   "metadata": {
    "gradient": {
     "editing": false,
     "id": "6e8c2c27",
     "kernelId": ""
    },
    "id": "6e8c2c27"
   }
  },
  {
   "cell_type": "code",
   "execution_count": 6,
   "source": [
    "def make_testing_data(x_range=DEFAULT_X_RANGE, y_range=DEFAULT_Y_RANGE, n_grid=DEFAULT_N_GRID):\n",
    "  \"\"\"Create a mesh grid in 2D space.\"\"\"\n",
    "  # testing data (mesh grid over data space)\n",
    "  x = np.linspace(x_range[0], x_range[1], n_grid)\n",
    "  y = np.linspace(y_range[0], y_range[1], n_grid)\n",
    "  xv, yv = np.meshgrid(x, y)\n",
    "  return np.stack([xv.flatten(), yv.flatten()], axis=-1)"
   ],
   "outputs": [],
   "metadata": {
    "gradient": {
     "editing": false,
     "execution_count": 5,
     "id": "c7aef0d8",
     "kernelId": ""
    },
    "id": "c7aef0d8"
   }
  },
  {
   "cell_type": "markdown",
   "source": [
    "To evaluate model uncertainty, add an out-of-domain (OOD) dataset that belongs to a third class. The model never sees these OOD examples during training."
   ],
   "metadata": {
    "gradient": {
     "editing": false,
     "id": "eb5762e7",
     "kernelId": ""
    },
    "id": "eb5762e7"
   }
  },
  {
   "cell_type": "code",
   "execution_count": 7,
   "source": [
    "def make_ood_data(sample_size=500, means=(2.5, -1.75), vars=(0.01, 0.01)):\n",
    "  return np.random.multivariate_normal(\n",
    "      means, cov=np.diag(vars), size=sample_size)"
   ],
   "outputs": [],
   "metadata": {
    "gradient": {
     "editing": false,
     "execution_count": 6,
     "id": "47180029",
     "kernelId": ""
    },
    "id": "47180029"
   }
  },
  {
   "cell_type": "code",
   "execution_count": 8,
   "source": [
    "# Load the train, test and OOD datasets.\n",
    "train_examples, train_labels = make_training_data(\n",
    "    sample_size=500)\n",
    "test_examples = make_testing_data()\n",
    "ood_examples = make_ood_data(sample_size=500)\n",
    "\n",
    "# Visualize\n",
    "pos_examples = train_examples[train_labels == 0]\n",
    "neg_examples = train_examples[train_labels == 1]\n",
    "\n",
    "plt.figure(figsize=(7, 5.5))\n",
    "\n",
    "plt.scatter(pos_examples[:, 0], pos_examples[:, 1], c=\"#377eb8\", alpha=0.5)\n",
    "plt.scatter(neg_examples[:, 0], neg_examples[:, 1], c=\"#ff7f00\", alpha=0.5)\n",
    "plt.scatter(ood_examples[:, 0], ood_examples[:, 1], c=\"red\", alpha=0.1)\n",
    "\n",
    "plt.legend([\"Postive\", \"Negative\", \"Out-of-Domain\"])\n",
    "\n",
    "plt.ylim(DEFAULT_Y_RANGE)\n",
    "plt.xlim(DEFAULT_X_RANGE)\n",
    "\n",
    "plt.show()"
   ],
   "outputs": [
    {
     "output_type": "display_data",
     "data": {
      "image/png": "[encoded data removed]",
      "text/plain": [
       "<Figure size 980x770 with 1 Axes>"
      ]
     },
     "metadata": {
      "needs_background": "light"
     }
    }
   ],
   "metadata": {
    "colab": {
     "base_uri": "https://localhost:8080/",
     "height": 658
    },
    "gradient": {
     "editing": false,
     "execution_count": 7,
     "id": "fc6d22e3",
     "kernelId": ""
    },
    "id": "fc6d22e3",
    "outputId": "4e6ea756-f68c-4874-e469-3d801e4304fe"
   }
  },
  {
   "cell_type": "markdown",
   "source": [
    "Here the blue and orange represent the positive and negative classes, and the red represents the OOD data. A model that quantifies the uncertainty well is expected to be confident when close to training data  (i.e., $p(x_{test})$ close to 0 or 1), and be uncertain when far away from the training data regions  (i.e., $p(x_{test})$ close to 0.5)."
   ],
   "metadata": {
    "gradient": {
     "editing": false,
     "id": "456e9439",
     "kernelId": ""
    },
    "id": "456e9439"
   }
  },
  {
   "cell_type": "code",
   "execution_count": 9,
   "source": [
    "from torch.utils.data import Dataset\n",
    "class TrainDataset(Dataset):\n",
    "  def __init__(self, X, y, dtype_X = torch.FloatTensor, dtype_y = torch.LongTensor):\n",
    "    self.train_examples = torch.from_numpy(X).type(dtype_X)\n",
    "    self.train_labels = torch.from_numpy(y).type(dtype_y)\n",
    "\n",
    "  def __len__(self):\n",
    "    return len(self.train_examples)\n",
    "  \n",
    "  def __getitem__(self, idx):\n",
    "    return self.train_examples[idx], self.train_labels[idx]"
   ],
   "outputs": [],
   "metadata": {
    "gradient": {
     "editing": false,
     "execution_count": 8,
     "id": "c94a4665",
     "kernelId": ""
    },
    "id": "c94a4665"
   }
  },
  {
   "cell_type": "code",
   "execution_count": 10,
   "source": [
    "train_examples.shape, train_labels.shape"
   ],
   "outputs": [
    {
     "output_type": "execute_result",
     "data": {
      "text/plain": [
       "((1000, 2), (1000,))"
      ]
     },
     "metadata": {},
     "execution_count": 10
    }
   ],
   "metadata": {}
  },
  {
   "cell_type": "markdown",
   "source": [
    "### Visualize uncertainty\n",
    "\n",
    "The following code for plotting the classification and uncertainty surface can be found at https://colab.research.google.com/github/tensorflow/docs/blob/master/site/en/tutorials/understanding/sngp.ipynb#scrollTo=HZDMX7gZrZ-5."
   ],
   "metadata": {
    "gradient": {
     "editing": false,
     "id": "51a0c045",
     "kernelId": ""
    },
    "id": "51a0c045"
   }
  },
  {
   "cell_type": "code",
   "execution_count": 11,
   "source": [
    "def plot_uncertainty_surface(test_uncertainty, ax, cmap=None):\n",
    "  \"\"\"Visualizes the 2D uncertainty surface.\n",
    "  \n",
    "  For simplicity, assume these objects already exist in the memory:\n",
    "\n",
    "    test_examples: Array of test examples, shape (num_test, 2).\n",
    "    train_labels: Array of train labels, shape (num_train, ).\n",
    "    train_examples: Array of train examples, shape (num_train, 2).\n",
    "  \n",
    "  Arguments:\n",
    "    test_uncertainty: Array of uncertainty scores, shape (num_test,).\n",
    "    ax: A matplotlib Axes object that specifies a matplotlib figure.\n",
    "    cmap: A matplotlib colormap object specifying the palette of the \n",
    "      predictive surface.\n",
    "\n",
    "  Returns:\n",
    "    pcm: A matplotlib PathCollection object that contains the palette \n",
    "      information of the uncertainty plot.\n",
    "  \"\"\"\n",
    "  # Normalize uncertainty for better visualization.\n",
    "  test_uncertainty = test_uncertainty / np.max(test_uncertainty)\n",
    "\n",
    "  # Set view limits.\n",
    "  ax.set_ylim(DEFAULT_Y_RANGE)\n",
    "  ax.set_xlim(DEFAULT_X_RANGE)\n",
    "\n",
    "  # Plot normalized uncertainty surface.\n",
    "  pcm = ax.imshow(\n",
    "      np.reshape(test_uncertainty, [DEFAULT_N_GRID, DEFAULT_N_GRID]), \n",
    "      cmap=cmap,\n",
    "      origin=\"lower\",\n",
    "      extent=DEFAULT_X_RANGE + DEFAULT_Y_RANGE,\n",
    "      vmin=DEFAULT_NORM.vmin,\n",
    "      vmax=DEFAULT_NORM.vmax,\n",
    "      interpolation='bicubic', \n",
    "      aspect='auto')\n",
    "\n",
    "  # Plot training data.\n",
    "  ax.scatter(train_examples[:, 0], train_examples[:, 1],\n",
    "             c=train_labels, cmap=DEFAULT_CMAP, alpha=0.5)\n",
    "  ax.scatter(ood_examples[:, 0], ood_examples[:, 1], c=\"red\", alpha=0.1)\n",
    "\n",
    "  return pcm"
   ],
   "outputs": [],
   "metadata": {
    "gradient": {
     "editing": false,
     "execution_count": 16,
     "id": "f6aa6488",
     "kernelId": ""
    },
    "id": "f6aa6488"
   }
  },
  {
   "cell_type": "code",
   "execution_count": 12,
   "source": [
    "def plot_predictions(pred_probs, uncertainty, model_name=\"\"):\n",
    "  \"\"\"Plot normalized class probabilities and predictive uncertainties.\"\"\"\n",
    "  # Compute predictive uncertainty.\n",
    "\n",
    "  # Initialize the plot axes.\n",
    "  fig, axs = plt.subplots(1, 2, figsize=(14, 5))\n",
    "\n",
    "  # Plots the class probability.\n",
    "  pcm_0 = plot_uncertainty_surface(pred_probs, ax=axs[0])\n",
    "  # Plots the predictive uncertainty.\n",
    "  pcm_1 = plot_uncertainty_surface(uncertainty, ax=axs[1])\n",
    "\n",
    "  # Adds color bars and titles.\n",
    "  fig.colorbar(pcm_0, ax=axs[0])\n",
    "  fig.colorbar(pcm_1, ax=axs[1])\n",
    "\n",
    "  axs[0].set_title(f\"Class Probability, {model_name}\")\n",
    "  axs[1].set_title(f\"(Normalized) Predictive Uncertainty, {model_name}\")\n",
    "\n",
    "  plt.show()"
   ],
   "outputs": [],
   "metadata": {
    "gradient": {
     "editing": false,
     "execution_count": 18,
     "id": "00a8a7ef",
     "kernelId": ""
    },
    "id": "00a8a7ef"
   }
  },
  {
   "cell_type": "markdown",
   "source": [
    "## The SNGP model"
   ],
   "metadata": {
    "gradient": {
     "editing": false,
     "id": "299b9638",
     "kernelId": ""
    },
    "id": "299b9638"
   }
  },
  {
   "cell_type": "markdown",
   "source": [
    "The SNGP model should preserve distance from the training data and we can leverage this for better predictive uncertainty estimation."
   ],
   "metadata": {
    "gradient": {
     "editing": false,
     "id": "16db5c77",
     "kernelId": ""
    },
    "id": "16db5c77"
   }
  },
  {
   "cell_type": "markdown",
   "source": [
    "#### The ResNet Backbone\n",
    "We define a basic neural network with skip connections below. Spectral normalisation is implemented in the spectral_norm_hook which is called after every backprop which updates the weights in a layer, and this enforces the spectral norm of the layer weights to be constrained. \n",
    "\n",
    "Applying spectral normalisation to a value below 1.0, due to the Lipschitz condition (this is described in the SNGP paper in detail), distance in the hidden layer representation of the input bears correspondence to distance in the data manifold, making it possible to use distance in the hidden representation to produce predictive certainty estimation."
   ],
   "metadata": {
    "gradient": {
     "editing": false,
     "id": "23c12c03",
     "kernelId": ""
    },
    "id": "23c12c03"
   }
  },
  {
   "cell_type": "code",
   "execution_count": 13,
   "source": [
    "from models.resnet import ResNetBackbone"
   ],
   "outputs": [],
   "metadata": {
    "id": "b_obdsKpsTV2"
   }
  },
  {
   "cell_type": "markdown",
   "source": [
    "#### Gaussian Process Output Layer\n",
    "As discussed in the SNGP paper, a Gaussian Process with a radial basis kernel is approximated using Random Fourier Features to approximate the prior distribution for the GP and then using the Laplace method to approximate the GP posterior. This yields a set of layers that are end to end trainable with the neural network backbone."
   ],
   "metadata": {
    "id": "BWZP_81PoFFb"
   }
  },
  {
   "cell_type": "code",
   "execution_count": 15,
   "source": [
    "from models.gaussian_process_layer import RandomFeatureGaussianProcess"
   ],
   "outputs": [],
   "metadata": {
    "id": "zlgz56cyrh4R"
   }
  },
  {
   "cell_type": "code",
   "execution_count": 14,
   "source": [],
   "outputs": [],
   "metadata": {
    "id": "a6aoBw1mwFYP"
   }
  },
  {
   "cell_type": "code",
   "execution_count": null,
   "source": [
    "sngp_config = dict(\n",
    "        out_features=2,\n",
    "        backbone = ResNetBackbone(input_features=2, num_hidden_layers=6, num_hidden=128, dropout_rate=0.1),\n",
    "        num_inducing = 1024,\n",
    "        momentum = -1.0,\n",
    "        ridge_penalty = 1e-6)\n",
    "training_config = dict(batch_size=128, shuffle=True)\n",
    "trainer = Trainer(model_config=sngp_config, task_type='classification', model=RandomFeatureGaussianProcess)\n",
    "model = trainer.train(training_data=TrainDataset(X=train_examples, y=train_labels), data_loader_config=training_config, epochs=100)"
   ],
   "outputs": [
    {
     "output_type": "stream",
     "name": "stdout",
     "text": [
      "RandomFeatureGaussianProcess(\n",
      "  (rff): Sequential(\n",
      "    (0): ResNetBackbone(\n",
      "      (input_layer): Linear(in_features=2, out_features=128, bias=True)\n",
      "      (hidden_layers): Sequential(\n",
      "        (0): Linear(in_features=128, out_features=128, bias=True)\n",
      "        (1): Linear(in_features=128, out_features=128, bias=True)\n",
      "        (2): Linear(in_features=128, out_features=128, bias=True)\n",
      "        (3): Linear(in_features=128, out_features=128, bias=True)\n",
      "        (4): Linear(in_features=128, out_features=128, bias=True)\n",
      "        (5): Linear(in_features=128, out_features=128, bias=True)\n",
      "      )\n",
      "    )\n",
      "    (1): Linear(in_features=128, out_features=1024, bias=True)\n",
      "  )\n",
      "  (beta): Linear(in_features=1024, out_features=2, bias=False)\n",
      ")\n",
      "Avg Loss Epoch 0: 15.196186201913017\n",
      "Avg Loss Epoch 10: 4.6691112858908514\n",
      "Avg Loss Epoch 20: 3.584582907812936\n",
      "Avg Loss Epoch 30: 2.1461309620312283\n"
     ]
    }
   ],
   "metadata": {
    "colab": {
     "base_uri": "https://localhost:8080/"
    },
    "id": "DWl86oJDsOds",
    "outputId": "30ba8b7a-8a31-4f16-df93-0bf92a6757b2",
    "pycharm": {
     "is_executing": true
    }
   }
  },
  {
   "cell_type": "code",
   "execution_count": null,
   "source": [
    "trainer.plot_loss()"
   ],
   "outputs": [],
   "metadata": {
    "pycharm": {
     "is_executing": true
    }
   }
  },
  {
   "cell_type": "markdown",
   "source": [
    "#### Computing the posterior predictive probability\n",
    "We could use sampling but this requires multiple inferences and removes the latency benefits of SNGP over using ensembles or MC dropout to estimate predictive uncertainty. Instead, we approximate $E(p(x))$ using the mean-field method:\n",
    "\n",
    "$E(p(x)) \\approx softmax(\\frac{logit(x)}{\\sqrt(1 + \\lambda \\sigma^2(x))})$\n",
    "\n",
    "where often $\\lambda$ is chosen as $\\pi/8$ or $3/\\pi^2$. \n",
    "\n",
    "This has the benefit that we require one forward pass to produce the mean output prediction."
   ],
   "metadata": {
    "gradient": {
     "editing": false,
     "id": "aec98a51",
     "kernelId": ""
    },
    "id": "aec98a51"
   }
  },
  {
   "cell_type": "code",
   "execution_count": null,
   "source": [
    "def mean_field_logits(logits, variances, mean_field_factor):\n",
    "  logits_scale = (1.0 + variances * mean_field_factor) ** 0.5\n",
    "  if len(logits.shape) > 1:\n",
    "    logits_scale = logits_scale[:, None]\n",
    "  return logits/logits_scale"
   ],
   "outputs": [],
   "metadata": {
    "id": "0ujidR7zQQsn",
    "pycharm": {
     "is_executing": true
    }
   }
  },
  {
   "cell_type": "code",
   "execution_count": null,
   "source": [
    "train_examples.shape, train_labels.shape"
   ],
   "outputs": [],
   "metadata": {
    "pycharm": {
     "is_executing": true
    }
   }
  },
  {
   "cell_type": "code",
   "execution_count": null,
   "source": [
    "test = torch.Tensor(test_examples)\n",
    "test.shape"
   ],
   "outputs": [],
   "metadata": {
    "colab": {
     "base_uri": "https://localhost:8080/"
    },
    "id": "8U5UwZs4RDAe",
    "outputId": "80bf8fc4-477b-40c0-a138-b0c408948a03",
    "pycharm": {
     "is_executing": true
    }
   }
  },
  {
   "cell_type": "code",
   "execution_count": null,
   "source": [
    "model.eval()\n",
    "# Inverts precision matrix to yield posterior covariance\n",
    "model.update_covariance()\n",
    "logits, variances = model(test, with_variance=True, update_precision=False)\n",
    "logits = mean_field_logits(logits, variances, np.pi/8.)\n",
    "# Apply softmax since we are dealing with classification\n",
    "probs = logits.detach().softmax(dim=1).numpy()[:,0]\n",
    "variances = variances.numpy()"
   ],
   "outputs": [],
   "metadata": {
    "id": "bZldk6EURPqm",
    "pycharm": {
     "is_executing": true
    }
   }
  },
  {
   "cell_type": "code",
   "execution_count": null,
   "source": [
    "probs.shape, variances.shape"
   ],
   "outputs": [],
   "metadata": {
    "pycharm": {
     "is_executing": true
    }
   }
  },
  {
   "cell_type": "code",
   "execution_count": null,
   "source": [
    "plot_predictions(probs, variances, model_name=\"SNGP\")"
   ],
   "outputs": [],
   "metadata": {
    "colab": {
     "base_uri": "https://localhost:8080/",
     "height": 635
    },
    "gradient": {
     "editing": false,
     "id": "5a25635e",
     "kernelId": ""
    },
    "id": "5a25635e",
    "outputId": "0c6e2a9f-3f36-4391-e9cd-b44f5dfa88ea",
    "pycharm": {
     "is_executing": true
    }
   }
  },
  {
   "cell_type": "code",
   "execution_count": null,
   "source": [
    "# Verifying that spectral normalisation has been applied to backbone layer weights\n",
    "print([torch.linalg.norm(hidden_layer.weight, 2).detach().squeeze() for hidden_layer in model.rff[0].hidden_layers])\n",
    "print(torch.linalg.norm(model.rff[0].input_layer.weight, 2) == 0.9)"
   ],
   "outputs": [],
   "metadata": {
    "colab": {
     "base_uri": "https://localhost:8080/"
    },
    "id": "MVNh7QrtdFFo",
    "outputId": "5d77a358-124f-4e67-a499-f54f2e8421bd",
    "pycharm": {
     "is_executing": true
    }
   }
  },
  {
   "cell_type": "markdown",
   "source": [
    "# Regression\n",
    "We adapt training of the SNGP for regression tasks by updating the loss function used. As the Laplace method approximates the RFF posterior using a Gaussian likelihood centered around a MAP estimate, and minimising the negative log likelihood can be done by minimising the mean squared error, we can plug in the mean square error loss for the cross entropy loss in the trainer."
   ],
   "metadata": {
    "id": "NGB1KlwvW10W"
   }
  },
  {
   "cell_type": "code",
   "execution_count": null,
   "source": [
    "X = np.linspace(start=-10000, stop=10000, num=100000).reshape(-1, 1)\n",
    "y = np.squeeze(X**3 + X - np.log(X**2))\n",
    "y = (y - np.mean(y)) / np.std(y)"
   ],
   "outputs": [],
   "metadata": {
    "id": "9GHHJZ-vZg3O",
    "pycharm": {
     "is_executing": true
    }
   }
  },
  {
   "cell_type": "markdown",
   "source": [
    "## The true underlying function to model"
   ],
   "metadata": {}
  },
  {
   "cell_type": "code",
   "execution_count": null,
   "source": [
    "plt.plot(X[::1000], y[::1000], label=r\"$f(X) = X^3 + X - \\log(X^2)$\", linestyle=\"dotted\")\n",
    "plt.legend()\n",
    "plt.xlabel(\"$x$\")\n",
    "plt.ylabel(\"$f(x)$\")\n",
    "_ = plt.title(\"True generative process\")"
   ],
   "outputs": [],
   "metadata": {
    "colab": {
     "base_uri": "https://localhost:8080/",
     "height": 556
    },
    "id": "9e748emlZy-V",
    "outputId": "414765da-4a15-46c9-a0ec-da5df688d1c0",
    "pycharm": {
     "is_executing": true
    }
   }
  },
  {
   "cell_type": "code",
   "execution_count": null,
   "source": [
    "rng = np.random.RandomState(1)\n",
    "training_indices = rng.choice(np.arange(y.size//4, y.size*3//4), size=4000, replace=False)\n",
    "# training_indices = np.arange(y.size//4, y.size*3//4)[::5]\n",
    "X_train, y_train = X[training_indices], y[training_indices]\n",
    "noise_std = 0.01\n",
    "y_train_noisy = y_train + rng.normal(loc=0.0, scale=noise_std, size=y_train.shape)"
   ],
   "outputs": [],
   "metadata": {
    "id": "uPrpwM7vZ4S3",
    "pycharm": {
     "is_executing": true
    }
   }
  },
  {
   "cell_type": "code",
   "execution_count": null,
   "source": [
    "train_dataset = TrainDataset(X_train, np.expand_dims(y_train_noisy, axis=1), torch.FloatTensor, torch.FloatTensor)\n",
    "len(train_dataset)"
   ],
   "outputs": [],
   "metadata": {
    "colab": {
     "base_uri": "https://localhost:8080/"
    },
    "id": "SLUwUwSMtn-S",
    "outputId": "11fca060-fbc6-4af2-f916-7e29891e3348",
    "pycharm": {
     "is_executing": true
    }
   }
  },
  {
   "cell_type": "code",
   "execution_count": null,
   "source": [
    "sngp_config = dict(\n",
    "        out_features=1,\n",
    "        backbone = ResNetBackbone(input_features=1, num_hidden_layers=0, num_hidden=64, dropout_rate=0.01, norm_multiplier=0.9),\n",
    "        num_inducing = 1024,\n",
    "        momentum = -1.0,\n",
    "        ridge_penalty = 1e-6)\n",
    "\n",
    "# Note that for regression tasks especially, the spectral normalisation applies a limit on the size gradients can grow to.\n",
    "# This means that standardising and destandardising input and output data is especially useful in this context.\n",
    "training_config = dict(batch_size=32, shuffle=True)\n",
    "trainer = Trainer(model_config=sngp_config, task_type='regression', model=RandomFeatureGaussianProcess)\n",
    "model = trainer.train(training_data=train_dataset, data_loader_config=training_config, epochs=100, lr=1e-3)"
   ],
   "outputs": [],
   "metadata": {
    "colab": {
     "base_uri": "https://localhost:8080/"
    },
    "id": "iqTh-WcOsM0p",
    "outputId": "93cf6094-badf-412a-e7e6-a1a417036c39",
    "pycharm": {
     "is_executing": true
    }
   }
  },
  {
   "cell_type": "code",
   "execution_count": null,
   "source": [
    "trainer.plot_loss()"
   ],
   "outputs": [],
   "metadata": {
    "pycharm": {
     "is_executing": true
    }
   }
  },
  {
   "cell_type": "code",
   "execution_count": null,
   "source": [
    "test_dataset = torch.Tensor(X)"
   ],
   "outputs": [],
   "metadata": {
    "id": "rJfhwae2FkW_",
    "pycharm": {
     "is_executing": true
    }
   }
  },
  {
   "cell_type": "code",
   "execution_count": null,
   "source": [
    "model.eval()\n",
    "model.update_covariance()\n",
    "predictions, variances = model(test_dataset, with_variance=True, update_precision=False)\n",
    "predictions = predictions.detach().numpy()\n",
    "variances = variances.numpy()\n",
    "variances = variances/np.max(variances)"
   ],
   "outputs": [],
   "metadata": {
    "id": "rdhAGwkRFv6m",
    "pycharm": {
     "is_executing": true
    }
   }
  },
  {
   "cell_type": "code",
   "execution_count": null,
   "source": [
    "variances[::1000][:20]"
   ],
   "outputs": [],
   "metadata": {
    "colab": {
     "base_uri": "https://localhost:8080/"
    },
    "id": "CDB7Jbpcg58i",
    "outputId": "e844ef52-e267-40cc-cdcd-66a11521495e",
    "pycharm": {
     "is_executing": true
    }
   }
  },
  {
   "cell_type": "code",
   "execution_count": null,
   "source": [
    "plt.plot(X, variances, linestyle='dotted', label='Standardised Variance')\n",
    "plt.plot(X[:-999], np.convolve(variances, np.ones(1000)/1000, mode='valid'), linestyle='dotted', label='Moving average')\n",
    "plt.scatter(X_train, np.zeros(len(X_train)), s=1, c='red', label='Support of training data')\n",
    "plt.legend()\n",
    "plt.ylabel('Standardised variance')\n",
    "plt.show()"
   ],
   "outputs": [],
   "metadata": {
    "pycharm": {
     "is_executing": true
    }
   }
  },
  {
   "cell_type": "markdown",
   "source": [
    "## What this shows\n",
    "These plots illustrate how the variance output by the network grows with distance from the training data manifold, capturing a notion of uncertainty quantified by distance from training samples."
   ],
   "metadata": {}
  },
  {
   "cell_type": "code",
   "execution_count": null,
   "source": [
    "plt.plot(X[::500], predictions[::500], label=r\"Predictions, variance, and true training data\", linestyle=\"dotted\")\n",
    "plt.scatter(X_train, y_train_noisy, s=1, c='red', label='In Distribution Training Samples')\n",
    "plt.fill_between(X[::1000].transpose()[0], predictions[::1000].transpose()[0]-variances[::1000].transpose()[0], predictions[::1000].transpose()[0]+variances[::1000].transpose()[0], alpha=0.5)\n",
    "plt.legend()\n",
    "plt.xlabel(\"$x$\")\n",
    "plt.ylabel(\"Predictions\")\n",
    "plt.title(\"Predictions\")\n",
    "plt.show()"
   ],
   "outputs": [],
   "metadata": {
    "colab": {
     "base_uri": "https://localhost:8080/",
     "height": 556
    },
    "id": "GtYaNIVnF8IW",
    "outputId": "aac9683d-093c-4280-92de-4868ae877460",
    "pycharm": {
     "is_executing": true
    }
   }
  },
  {
   "cell_type": "markdown",
   "source": [
    "## What this shows\n",
    "The function is relatively easy to model but it illustrates how the variability of predictions is far greater outside the support of the training data."
   ],
   "metadata": {}
  },
  {
   "cell_type": "markdown",
   "source": [
    "### 2D Input Data\n",
    "Here I will try and illustrate this distance related out of distribution uncertainty increase that is seen, but with a 2D input."
   ],
   "metadata": {
    "id": "mKD0ffCuyjxx"
   }
  },
  {
   "cell_type": "code",
   "execution_count": null,
   "source": [
    "def f(X, Y):\n",
    "  return np.sin(X) + np.cos(Y)\n",
    "\n",
    "def f1(xs):\n",
    "  return xs[0] + np.sin(xs[1])\n",
    "\n",
    "X1 = np.arange(-10, 10, 0.01)\n",
    "Y1 = np.arange(-10, 10, 0.01)\n",
    "X, Y = np.meshgrid(X1, Y1)\n",
    "R = np.sqrt(X**2 + Y**2)\n",
    "Z = np.sin(R)\n",
    "Z = (Z-np.mean(Z, axis=1))/np.std(Z, axis=1)"
   ],
   "outputs": [],
   "metadata": {
    "id": "pS0sMAdI0Sza",
    "pycharm": {
     "is_executing": true
    }
   }
  },
  {
   "cell_type": "code",
   "execution_count": null,
   "source": [
    "fig, ax = plt.subplots(subplot_kw={\"projection\": \"3d\"})\n",
    "ax.set_title('True Data Distribution')\n",
    "ax.plot_surface(X, Y, Z, linewidth=0, antialiased=False)\n",
    "plt.show()"
   ],
   "outputs": [],
   "metadata": {
    "colab": {
     "base_uri": "https://localhost:8080/",
     "height": 484
    },
    "id": "PdMw9oJGb0sP",
    "outputId": "8d59fe5f-a9ef-4639-e414-f694b0e52a52",
    "pycharm": {
     "is_executing": true
    }
   }
  },
  {
   "cell_type": "code",
   "execution_count": null,
   "source": [
    "train_input = np.array([[x, y] for x in X1 for y in Y1])\n",
    "train_input.shape"
   ],
   "outputs": [],
   "metadata": {
    "colab": {
     "base_uri": "https://localhost:8080/"
    },
    "id": "honDLZwNp7IV",
    "outputId": "27246ab3-78be-42a3-a8e6-49ac3247701f",
    "pycharm": {
     "is_executing": true
    }
   }
  },
  {
   "cell_type": "code",
   "execution_count": null,
   "source": [
    "def f(input):\n",
    "  x, y = input\n",
    "  return np.sin(np.sqrt(x**2 + y**2))\n",
    "train_labels = np.array([f(input) for input in train_input])\n",
    "train_labels.shape"
   ],
   "outputs": [],
   "metadata": {
    "colab": {
     "base_uri": "https://localhost:8080/"
    },
    "id": "5pSQ7srFrHel",
    "outputId": "573c5304-4257-4bb5-e89d-117b2607f6e3",
    "pycharm": {
     "is_executing": true
    }
   }
  },
  {
   "cell_type": "markdown",
   "source": [
    "### Partition half the data for training set"
   ],
   "metadata": {}
  },
  {
   "cell_type": "code",
   "execution_count": null,
   "source": [
    "rng = np.random.RandomState(1)\n",
    "training_indices = rng.choice(np.arange(0, train_labels.shape[0]//2), size=80000, replace=False)\n",
    "X_train, y_train = train_input[training_indices], train_labels[training_indices]\n",
    "noise_std = 0.01\n",
    "y_train_noisy = y_train + rng.normal(loc=0.0, scale=noise_std, size=y_train.shape)"
   ],
   "outputs": [],
   "metadata": {
    "id": "_-3-tmtniZMl",
    "pycharm": {
     "is_executing": true
    }
   }
  },
  {
   "cell_type": "code",
   "execution_count": null,
   "source": [
    "train_dataset = TrainDataset(X_train, np.expand_dims(y_train_noisy, axis=1), torch.FloatTensor, torch.FloatTensor)\n",
    "len(train_dataset)"
   ],
   "outputs": [],
   "metadata": {
    "colab": {
     "base_uri": "https://localhost:8080/"
    },
    "id": "GmwvKK3wuBZ0",
    "outputId": "f6e73946-ed61-4683-f390-fcfb0631c904",
    "pycharm": {
     "is_executing": true
    }
   }
  },
  {
   "cell_type": "code",
   "execution_count": null,
   "source": [
    "test_dataset = torch.Tensor(train_input[::10])\n",
    "len(test_dataset)"
   ],
   "outputs": [],
   "metadata": {
    "pycharm": {
     "is_executing": true
    }
   }
  },
  {
   "cell_type": "code",
   "execution_count": null,
   "source": [
    "sngp_config = dict(\n",
    "        out_features=1,\n",
    "        backbone = ResNetBackbone(input_features=2, num_hidden_layers=1, num_hidden=128, dropout_rate=0.01, norm_multiplier=0.9),\n",
    "        num_inducing = 1024,\n",
    "        momentum = -1.0,\n",
    "        ridge_penalty = 1e-6)\n",
    "\n",
    "# again, should ideally standardise inputs and outputs (ignored here as domain and range are both relatively non large in magnitude)\n",
    "training_config = dict(batch_size=128, shuffle=True)\n",
    "trainer = Trainer(model_config=sngp_config, task_type='regression', model=RandomFeatureGaussianProcess)\n",
    "model = trainer.train(training_data=train_dataset, data_loader_config=training_config, epochs=50, lr=1e-3)"
   ],
   "outputs": [],
   "metadata": {
    "colab": {
     "base_uri": "https://localhost:8080/"
    },
    "id": "Kn6JJDHoi-BF",
    "outputId": "06043614-2f7d-4d48-b05e-14962323e7d6",
    "pycharm": {
     "is_executing": true
    }
   }
  },
  {
   "cell_type": "code",
   "execution_count": null,
   "source": [
    "trainer.plot_loss()"
   ],
   "outputs": [],
   "metadata": {
    "pycharm": {
     "is_executing": true
    }
   }
  },
  {
   "cell_type": "code",
   "execution_count": null,
   "source": [
    "test_dataset.shape"
   ],
   "outputs": [],
   "metadata": {
    "pycharm": {
     "is_executing": true
    }
   }
  },
  {
   "cell_type": "code",
   "execution_count": null,
   "source": [
    "model.eval()\n",
    "model.reset_covariance()\n",
    "model.update_covariance()\n",
    "predictions, variances = model(test_dataset, with_variance=True, update_precision=False)\n",
    "predictions = predictions.detach().numpy()\n",
    "variances = variances.abs().numpy()\n",
    "variances = variances/np.max(variances)"
   ],
   "outputs": [],
   "metadata": {
    "id": "ofenux7l5U3Q",
    "pycharm": {
     "is_executing": true
    }
   }
  },
  {
   "cell_type": "code",
   "execution_count": null,
   "source": [
    "len(predictions)"
   ],
   "outputs": [],
   "metadata": {
    "pycharm": {
     "is_executing": true
    }
   }
  },
  {
   "cell_type": "markdown",
   "source": [
    "This plot illustrates model predictions after training"
   ],
   "metadata": {
    "id": "MONbD8V59qeH"
   }
  },
  {
   "cell_type": "code",
   "execution_count": null,
   "source": [
    "# credit: https://stackoverflow.com/questions/30715083/python-plotting-a-wireframe-3d-cuboid\n",
    "def cuboid_data(center, size):\n",
    "    # suppose axis direction: x: to left; y: to inside; z: to upper\n",
    "    # get the (left, outside, bottom) point\n",
    "    o = [a - b / 2 for a, b in zip(center, size)]\n",
    "    # get the length, width, and height\n",
    "    l, w, h = size\n",
    "    x = [[o[0], o[0] + l, o[0] + l, o[0], o[0]],  # x coordinate of points in bottom surface\n",
    "         [o[0], o[0] + l, o[0] + l, o[0], o[0]],  # x coordinate of points in upper surface\n",
    "         [o[0], o[0] + l, o[0] + l, o[0], o[0]],  # x coordinate of points in outside surface\n",
    "         [o[0], o[0] + l, o[0] + l, o[0], o[0]]]  # x coordinate of points in inside surface\n",
    "    y = [[o[1], o[1], o[1] + w, o[1] + w, o[1]],  # y coordinate of points in bottom surface\n",
    "         [o[1], o[1], o[1] + w, o[1] + w, o[1]],  # y coordinate of points in upper surface\n",
    "         [o[1], o[1], o[1], o[1], o[1]],          # y coordinate of points in outside surface\n",
    "         [o[1] + w, o[1] + w, o[1] + w, o[1] + w, o[1] + w]]    # y coordinate of points in inside surface\n",
    "    z = [[o[2], o[2], o[2], o[2], o[2]],                        # z coordinate of points in bottom surface\n",
    "         [o[2] + h, o[2] + h, o[2] + h, o[2] + h, o[2] + h],    # z coordinate of points in upper surface\n",
    "         [o[2], o[2], o[2] + h, o[2] + h, o[2]],                # z coordinate of points in outside surface\n",
    "         [o[2], o[2], o[2] + h, o[2] + h, o[2]]]                # z coordinate of points in inside surface\n",
    "    return np.array(x), np.array(y), np.array(z)"
   ],
   "outputs": [],
   "metadata": {
    "pycharm": {
     "is_executing": true
    }
   }
  },
  {
   "cell_type": "code",
   "execution_count": null,
   "source": [
    "fig, ax = plt.subplots(subplot_kw={\"projection\": \"3d\"})\n",
    "ax.scatter(train_input[:,0][::10], train_input[:,1][::10], predictions, c=predictions, cmap='Greens', label='Predictions')\n",
    "X, Y, Z = cuboid_data([-5, 0, 0], (10, 20, 5))\n",
    "surf = ax.plot_surface(X, Y, Z, color='b', rstride=1, cstride=1, alpha=0.1, label='Training data support')\n",
    "surf._facecolors2d = surf._facecolor3d\n",
    "surf._edgecolors2d = surf._edgecolor3d\n",
    "ax.set_title('Predictions')\n",
    "ax.set_xlabel('sample element [0]')\n",
    "ax.set_ylabel('sample element [1]')\n",
    "ax.set_zlabel('Prediction')\n",
    "plt.legend()\n",
    "plt.show()"
   ],
   "outputs": [],
   "metadata": {
    "colab": {
     "base_uri": "https://localhost:8080/",
     "height": 467
    },
    "id": "b0EuWMFz5YR1",
    "outputId": "0e3380fe-33ca-4061-f662-e02c95078d28",
    "pycharm": {
     "is_executing": true
    }
   }
  },
  {
   "cell_type": "markdown",
   "source": [
    "The following plot illustrates how uncertainty increases sharply as we move from in distribution to out of distribution data."
   ],
   "metadata": {
    "id": "a6edwzcx9vOR"
   }
  },
  {
   "cell_type": "code",
   "execution_count": null,
   "source": [
    "fig, ax = plt.subplots(subplot_kw={\"projection\": \"3d\"})\n",
    "X, Y, Z = cuboid_data([-5, 0, 0.5], (10, 20, 0.9))\n",
    "surf = ax.plot_surface(X, Y, Z, color='b', rstride=1, cstride=1, alpha=0.1, label='Training data support')\n",
    "surf._facecolors2d = surf._facecolor3d\n",
    "surf._edgecolors2d = surf._edgecolor3d\n",
    "\n",
    "\n",
    "ax.scatter3D(train_input[:,0][::10], train_input[:,1][::10], variances, c=variances, label='Predictive uncertainty')\n",
    "ax.set_xlabel('sample element [0]')\n",
    "ax.set_ylabel('sample element [1]')\n",
    "ax.set_zlabel('Scaled Uncertainty')\n",
    "ax._facecolors2d = ax._facecolor\n",
    "plt.legend()\n",
    "plt.show()"
   ],
   "outputs": [],
   "metadata": {
    "colab": {
     "base_uri": "https://localhost:8080/",
     "height": 467
    },
    "id": "VfgeTNSu6ImY",
    "outputId": "cbbdb5e9-6df7-4b8a-d2dd-091dad31d4cc",
    "pycharm": {
     "is_executing": true
    }
   }
  }
 ],
 "metadata": {
  "colab": {
   "collapsed_sections": [],
   "name": "sngp.ipynb",
   "provenance": []
  },
  "kernelspec": {
   "name": "python3",
   "language": "python",
   "display_name": "Python 3 (ipykernel)"
  },
  "language_info": {
   "name": "python",
   "version": "3.9.10",
   "mimetype": "text/x-python",
   "codemirror_mode": {
    "name": "ipython",
    "version": 3
   },
   "pygments_lexer": "ipython3",
   "nbconvert_exporter": "python",
   "file_extension": ".py"
  }
 },
 "nbformat": 4,
 "nbformat_minor": 5
}